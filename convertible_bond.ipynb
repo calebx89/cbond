{
  "nbformat": 4,
  "nbformat_minor": 0,
  "metadata": {
    "colab": {
      "name": "convertible bond.ipynb",
      "provenance": [],
      "collapsed_sections": [],
      "authorship_tag": "ABX9TyPJUgTOP43063cRf+zwWW44",
      "include_colab_link": true
    },
    "kernelspec": {
      "name": "python3",
      "display_name": "Python 3"
    }
  },
  "cells": [
    {
      "cell_type": "markdown",
      "metadata": {
        "id": "view-in-github",
        "colab_type": "text"
      },
      "source": [
        "<a href=\"https://colab.research.google.com/github/calebx89/cbond/blob/master/convertible_bond.ipynb\" target=\"_parent\"><img src=\"https://colab.research.google.com/assets/colab-badge.svg\" alt=\"Open In Colab\"/></a>"
      ]
    },
    {
      "cell_type": "code",
      "metadata": {
        "id": "zBFHuVGL5Sp9",
        "colab": {
          "base_uri": "https://localhost:8080/"
        },
        "outputId": "cac475b5-7b95-4803-f1c1-3893b0af56f1"
      },
      "source": [
        "pip install pypinyin"
      ],
      "execution_count": null,
      "outputs": [
        {
          "output_type": "stream",
          "text": [
            "Collecting pypinyin\n",
            "\u001b[?25l  Downloading https://files.pythonhosted.org/packages/db/50/58b16cb56aeb003246d76ce3648f8e449605d7595e444a9b7c87bd543db8/pypinyin-0.40.0-py2.py3-none-any.whl (1.3MB)\n",
            "\u001b[K     |████████████████████████████████| 1.3MB 6.2MB/s \n",
            "\u001b[?25hInstalling collected packages: pypinyin\n",
            "Successfully installed pypinyin-0.40.0\n"
          ],
          "name": "stdout"
        }
      ]
    },
    {
      "cell_type": "code",
      "metadata": {
        "id": "c-UUfMpr5Mgc",
        "colab": {
          "base_uri": "https://localhost:8080/"
        },
        "outputId": "87e872bd-36a0-4abf-b7f9-7d6af571236a"
      },
      "source": [
        "\n",
        "# @Time : 2020/1/20 10:54\n",
        "# @File : realtime_price.py\n",
        "import pypinyin\n",
        "import requests\n",
        "session = requests.Session()\n",
        "cookies = {\n",
        "    'auto_reload': 'true',\n",
        "    'kbzw_r_uname': '%E9%87%8F%E5%8C%96%E8%87%AA%E7%94%B1%E4%B9%8B%E8%B7%AF',\n",
        "    'kbz_newcookie': '1',\n",
        "    'kbzw__Session': '1kmak8h8v6pscf5brjllb9hfk3',\n",
        "    'Hm_lvt_164fe01b1433a19b507595a43bf58262': '1578275141,1578879529',\n",
        "    'Hm_lpvt_164fe01b1433a19b507595a43bf58262': '1579488732',\n",
        "}\n",
        "\n",
        "headers = {\n",
        "    'Sec-Fetch-Mode': 'cors',\n",
        "    'Origin': 'https://www.jisilu.cn',\n",
        "    'Accept-Encoding': 'gzip, deflate, br',\n",
        "    'Accept-Language': 'zh,en;q=0.9,en-US;q=0.8',\n",
        "    'X-Requested-With': 'XMLHttpRequest',\n",
        "    'Connection': 'keep-alive',\n",
        "    'Pragma': 'no-cache',\n",
        "    'User-Agent': 'Mozilla/5.0 (Windows NT 10.0; Win64; x64) AppleWebKit/537.36 (KHTML, like Gecko) Chrome/76.0.3809.132 Safari/537.36',\n",
        "    'Content-Type': 'application/x-www-form-urlencoded; charset=UTF-8',\n",
        "    'Accept': 'application/json, text/javascript, */*; q=0.01',\n",
        "    'Cache-Control': 'no-cache',\n",
        "    'Referer': 'https://www.jisilu.cn/data/cbnew/',\n",
        "    'Sec-Fetch-Site': 'same-origin',\n",
        "}\n",
        "\n",
        "params = (\n",
        "    ('___jsl', 'LST___t=1579488785838'),\n",
        ")\n",
        "\n",
        "data = {  # price 是现价\n",
        "  'fprice': '',\n",
        "  'tprice': '',\n",
        "  'volume': '',\n",
        "  'svolume': '',\n",
        "  'premium_rt': '', #溢价率\n",
        "  'ytm_rt': '',   #税前YTM，税后是ytm_rt_tax \n",
        "  'rating_cd': '',\n",
        "  'is_search': 'Y',\n",
        "  'btype': '',\n",
        "  'listed': 'Y',\n",
        "  'sw_cd': '',\n",
        "  'bond_ids': '',\n",
        "  'rp': '50'\n",
        "}\n",
        "response = session.post('https://www.jisilu.cn/data/cbnew/cb_list/', headers=headers, params=params, cookies=cookies, data=data,timeout=3)\n",
        "ret = response.json()\n",
        "\n",
        "\n",
        "\n",
        "def get_value(list, bname, pname):\n",
        "  for body_dict in list['rows']:\n",
        "    item=body_dict.get('cell',{})\n",
        "    bond_nm = item.get('bond_nm','').strip()\n",
        "    if bond_nm.find(bname) != -1:\n",
        "      return(item[pname])\n",
        "  return(None)\n",
        "\n",
        "if 1: #only get the median, skip others\n",
        "  listPre=[]\n",
        "  for body_dict in ret['rows']:\n",
        "    item=body_dict.get('cell',{})\n",
        "    itemPre=item['premium_rt']\n",
        "    listPre.append(float(itemPre.replace('%','')))\n",
        "  import statistics\n",
        "  print(statistics.median(listPre))\n",
        "  temp=input()\n",
        "    \n",
        "from openpyxl import load_workbook\n",
        "max_row_number=200\n",
        "\n",
        "\n",
        "workbook = load_workbook(filename = 'bond.xlsx')\n",
        "worksheet = workbook['list']\n",
        "counter=0\n",
        "\n",
        "for i in range(1,max_row_number):\n",
        "  slot='A'+str(i)\n",
        "  bname = worksheet[slot].value\n",
        "  if bname == None:\n",
        "    continue\n",
        "  bname=bname.strip()\n",
        "  worksheet['B'+str(i)] = get_value(ret, bname, 'price')\n",
        "  worksheet['C'+str(i)] = get_value(ret, bname, 'ytm_rt')\n",
        "  worksheet['D'+str(i)] = get_value(ret, bname, 'ytm_rt_tax')\n",
        "  worksheet['E'+str(i)] = get_value(ret, bname, 'premium_rt')\n",
        "  counter+=1\n",
        "\n",
        "workbook.save('bond.xlsx')\n",
        "print(f'{counter} bonds are updated')\n",
        "a=input('type anything to quit')"
      ],
      "execution_count": null,
      "outputs": [
        {
          "output_type": "stream",
          "text": [
            "22.835\n",
            "\n",
            "118 bonds are updated\n",
            "type anything to quit\n"
          ],
          "name": "stdout"
        }
      ]
    }
  ]
}